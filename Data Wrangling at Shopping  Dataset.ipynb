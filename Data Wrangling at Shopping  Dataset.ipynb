{
 "cells": [
  {
   "cell_type": "code",
   "execution_count": 654,
   "metadata": {},
   "outputs": [
    {
     "name": "stdout",
     "output_type": "stream",
     "text": [
      "customer_df\n",
      "    customer_id customer_name             gender  age  \\\n",
      "0            1       fulan 1             Female   30   \n",
      "1            2       fulan 2  Prefer not to say   69   \n",
      "2            3       fulan 3  Prefer not to say   59   \n",
      "3            4       fulan 4  Prefer not to say   67   \n",
      "4            5       fulan 5  Prefer not to say   30   \n",
      "\n",
      "                     home_address  zip_code               city  \\\n",
      "0  8606 Victoria TerraceSuite 560      5464      Johnstonhaven   \n",
      "1      8327 Kirlin SummitApt. 461      8223    New Zacharyfort   \n",
      "2       269 Gemma SummitSuite 109      5661           Aliburgh   \n",
      "3       743 Bailey GroveSuite 141      1729  South Justinhaven   \n",
      "4         48 Hyatt ManorSuite 375      4032     Griffithsshire   \n",
      "\n",
      "                          state    country  \n",
      "0            Northern Territory  Australia  \n",
      "1               South Australia  Australia  \n",
      "2  Australian Capital Territory  Australia  \n",
      "3                    Queensland  Australia  \n",
      "4                    Queensland  Australia  \n",
      "orders_df\n",
      "    order_id  customer_id  payment order_date delivery_date\n",
      "0         1           64    30811  2021-8-30    2021-09-24\n",
      "1         2          473    50490   2021-2-3    2021-02-13\n",
      "2         3          774    46763  2021-10-8    2021-11-03\n",
      "3         4          433    39782   2021-5-6    2021-05-19\n",
      "4         5          441    14719  2021-3-23    2021-03-24\n",
      "product_df\n",
      "    product_id product_type  product_name size colour  price  quantity  \\\n",
      "0           0        Shirt  Oxford Cloth   XS    red    114        66   \n",
      "1           1        Shirt  Oxford Cloth    S    red    114        53   \n",
      "2           2        Shirt  Oxford Cloth    M    red    114        54   \n",
      "3           3        Shirt  Oxford Cloth    L    red    114        69   \n",
      "4           4        Shirt  Oxford Cloth   XL    red    114        47   \n",
      "\n",
      "                                    description  \n",
      "0  A red coloured, XS sized, Oxford Cloth Shirt  \n",
      "1   A red coloured, S sized, Oxford Cloth Shirt  \n",
      "2   A red coloured, M sized, Oxford Cloth Shirt  \n",
      "3   A red coloured, L sized, Oxford Cloth Shirt  \n",
      "4  A red coloured, XL sized, Oxford Cloth Shirt  \n",
      "sales_df\n",
      "    sales_id  order_id  product_id  price_per_unit  quantity  total_price\n",
      "0         0         1         218             106         2        212.0\n",
      "1         1         1         481             118         1        118.0\n",
      "2         2         1           2              96         3        288.0\n",
      "3         3         1        1002             106         2        212.0\n",
      "4         4         1         691             113         3        339.0\n"
     ]
    }
   ],
   "source": [
    "import numpy as np\n",
    "import pandas as pd\n",
    "\n",
    "\n",
    "customer_df=pd.read_csv(\"E:\\Boothcamp\\dicoding\\latihan\\DATA WRANGLING\\CUSTOMER/customers.csv\") \n",
    "orders_df=pd.read_csv(\"E:\\Boothcamp\\dicoding\\latihan\\DATA WRANGLING\\CUSTOMER/orders.csv\")\n",
    "product_df=pd.read_csv(\"E:\\Boothcamp\\dicoding\\latihan\\DATA WRANGLING\\CUSTOMER/products.csv\")\n",
    "sales_df=pd.read_csv(\"E:\\Boothcamp\\dicoding\\latihan\\DATA WRANGLING\\CUSTOMER/sales.csv\")\n",
    "print (\"customer_df\\n\",customer_df.head())\n",
    "print (\"orders_df\\n\",orders_df.head())\n",
    "print (\"product_df\\n\",product_df.head())\n",
    "print (\"sales_df\\n\",sales_df.head())\n"
   ]
  },
  {
   "cell_type": "code",
   "execution_count": 655,
   "metadata": {},
   "outputs": [
    {
     "name": "stdout",
     "output_type": "stream",
     "text": [
      "jumlah isna customer_df\n",
      " customer_id       0\n",
      "customer_name     0\n",
      "gender           18\n",
      "age               0\n",
      "home_address      0\n",
      "zip_code          0\n",
      "city              0\n",
      "state             0\n",
      "country           0\n",
      "dtype: int64\n",
      "\n",
      "jumlah isna orders_df\n",
      " order_id         0\n",
      "customer_id      0\n",
      "payment          0\n",
      "order_date       0\n",
      "delivery_date    0\n",
      "dtype: int64\n",
      "\n",
      "jumlah isna product_df\n",
      " product_id      0\n",
      "product_type    0\n",
      "product_name    0\n",
      "size            0\n",
      "colour          0\n",
      "price           0\n",
      "quantity        0\n",
      "description     0\n",
      "dtype: int64\n",
      "\n",
      " jumlah isna sales_df\n",
      " sales_id           0\n",
      "order_id           0\n",
      "product_id         0\n",
      "price_per_unit     0\n",
      "quantity           0\n",
      "total_price       19\n",
      "dtype: int64\n",
      "\n"
     ]
    }
   ],
   "source": [
    "print(\"jumlah isna customer_df\\n\",customer_df.isna().sum())\n",
    "print(\"\\njumlah isna orders_df\\n\",orders_df.isna().sum())\n",
    "print(\"\\njumlah isna product_df\\n\",product_df.isna().sum())\n",
    "print(\"\\n jumlah isna sales_df\\n\",sales_df.isna().sum())\n",
    "\n",
    "\n",
    "print()"
   ]
  },
  {
   "cell_type": "code",
   "execution_count": 656,
   "metadata": {},
   "outputs": [
    {
     "name": "stdout",
     "output_type": "stream",
     "text": [
      "jumlah duplikat customer_df =  6\n",
      "jumlah duplikat orders_df =  0\n",
      "jumlah duplikat product_df =  6\n",
      "jumlah duplikat sales_df =  0\n"
     ]
    }
   ],
   "source": [
    "print(\"jumlah duplikat customer_df = \",customer_df.duplicated().sum())\n",
    "print(\"jumlah duplikat orders_df = \",orders_df.duplicated().sum())\n",
    "print(\"jumlah duplikat product_df = \",product_df.duplicated().sum())\n",
    "print(\"jumlah duplikat sales_df = \",sales_df.duplicated().sum())"
   ]
  },
  {
   "cell_type": "code",
   "execution_count": 657,
   "metadata": {},
   "outputs": [
    {
     "name": "stdout",
     "output_type": "stream",
     "text": [
      "customer_df\n",
      "        customer_id          age     zip_code\n",
      "count  1007.000000  1007.000000  1007.000000\n",
      "mean    501.726912    50.929494  5012.538232\n",
      "std     288.673238    30.516299  2885.836112\n",
      "min       1.000000    20.000000     2.000000\n",
      "25%     252.500000    34.000000  2403.500000\n",
      "50%     502.000000    50.000000  5087.000000\n",
      "75%     751.500000    65.000000  7493.500000\n",
      "max    1000.000000   700.000000  9998.000000\n",
      "\n",
      "orders_df\n",
      "           order_id  customer_id       payment\n",
      "count  1000.000000  1000.000000   1000.000000\n",
      "mean    500.500000   506.640000  33972.936000\n",
      "std     288.819436   277.115502  14451.609047\n",
      "min       1.000000     1.000000  10043.000000\n",
      "25%     250.750000   275.250000  21329.250000\n",
      "50%     500.500000   515.000000  33697.500000\n",
      "75%     750.250000   737.250000  46249.000000\n",
      "max    1000.000000  1000.000000  59910.000000\n",
      "\n",
      "product_df\n",
      "         product_id        price     quantity\n",
      "count  1266.000000  1266.000000  1266.000000\n",
      "mean    627.926540   105.812006    60.138231\n",
      "std     363.971586     9.715611    11.682791\n",
      "min       0.000000    90.000000    40.000000\n",
      "25%     313.250000    95.250000    50.000000\n",
      "50%     626.500000   109.000000    60.000000\n",
      "75%     942.750000   114.000000    70.000000\n",
      "max    1259.000000   119.000000    80.000000\n",
      "\n",
      "sales_df\n",
      "           sales_id     order_id   product_id  price_per_unit    quantity  \\\n",
      "count  5000.000000  5000.000000  5000.000000     5000.000000  5000.00000   \n",
      "mean   2499.500000   503.038200   634.053200      103.501600     1.99240   \n",
      "std    1443.520003   285.964418   363.255794        9.195004     0.80751   \n",
      "min       0.000000     1.000000     1.000000       90.000000     1.00000   \n",
      "25%    1249.750000   258.000000   323.000000       95.000000     1.00000   \n",
      "50%    2499.500000   504.500000   635.000000      102.000000     2.00000   \n",
      "75%    3749.250000   749.000000   951.000000      112.000000     3.00000   \n",
      "max    4999.000000   999.000000  1259.000000      119.000000     3.00000   \n",
      "\n",
      "       total_price  \n",
      "count  4981.000000  \n",
      "mean    206.307368  \n",
      "std      86.352449  \n",
      "min      90.000000  \n",
      "25%     112.000000  \n",
      "50%     204.000000  \n",
      "75%     285.000000  \n",
      "max     357.000000  \n"
     ]
    }
   ],
   "source": [
    "print(\"customer_df\\n\",customer_df.describe())\n",
    "print(\"\\norders_df\\n\",orders_df.describe())\n",
    "print(\"\\nproduct_df\\n\",product_df.describe())\n",
    "print(\"\\nsales_df\\n\",sales_df.describe())"
   ]
  },
  {
   "cell_type": "code",
   "execution_count": 658,
   "metadata": {},
   "outputs": [
    {
     "name": "stdout",
     "output_type": "stream",
     "text": [
      "<class 'pandas.core.frame.DataFrame'>\n",
      "RangeIndex: 1007 entries, 0 to 1006\n",
      "Data columns (total 9 columns):\n",
      " #   Column         Non-Null Count  Dtype \n",
      "---  ------         --------------  ----- \n",
      " 0   customer_id    1007 non-null   int64 \n",
      " 1   customer_name  1007 non-null   object\n",
      " 2   gender         989 non-null    object\n",
      " 3   age            1007 non-null   int64 \n",
      " 4   home_address   1007 non-null   object\n",
      " 5   zip_code       1007 non-null   int64 \n",
      " 6   city           1007 non-null   object\n",
      " 7   state          1007 non-null   object\n",
      " 8   country        1007 non-null   object\n",
      "dtypes: int64(3), object(6)\n",
      "memory usage: 70.9+ KB\n",
      "customer_df None\n",
      "<class 'pandas.core.frame.DataFrame'>\n",
      "RangeIndex: 1000 entries, 0 to 999\n",
      "Data columns (total 5 columns):\n",
      " #   Column         Non-Null Count  Dtype \n",
      "---  ------         --------------  ----- \n",
      " 0   order_id       1000 non-null   int64 \n",
      " 1   customer_id    1000 non-null   int64 \n",
      " 2   payment        1000 non-null   int64 \n",
      " 3   order_date     1000 non-null   object\n",
      " 4   delivery_date  1000 non-null   object\n",
      "dtypes: int64(3), object(2)\n",
      "memory usage: 39.2+ KB\n",
      "orders_df None\n",
      "<class 'pandas.core.frame.DataFrame'>\n",
      "RangeIndex: 1266 entries, 0 to 1265\n",
      "Data columns (total 8 columns):\n",
      " #   Column        Non-Null Count  Dtype \n",
      "---  ------        --------------  ----- \n",
      " 0   product_id    1266 non-null   int64 \n",
      " 1   product_type  1266 non-null   object\n",
      " 2   product_name  1266 non-null   object\n",
      " 3   size          1266 non-null   object\n",
      " 4   colour        1266 non-null   object\n",
      " 5   price         1266 non-null   int64 \n",
      " 6   quantity      1266 non-null   int64 \n",
      " 7   description   1266 non-null   object\n",
      "dtypes: int64(3), object(5)\n",
      "memory usage: 79.2+ KB\n",
      "product_df None\n",
      "<class 'pandas.core.frame.DataFrame'>\n",
      "RangeIndex: 5000 entries, 0 to 4999\n",
      "Data columns (total 6 columns):\n",
      " #   Column          Non-Null Count  Dtype  \n",
      "---  ------          --------------  -----  \n",
      " 0   sales_id        5000 non-null   int64  \n",
      " 1   order_id        5000 non-null   int64  \n",
      " 2   product_id      5000 non-null   int64  \n",
      " 3   price_per_unit  5000 non-null   int64  \n",
      " 4   quantity        5000 non-null   int64  \n",
      " 5   total_price     4981 non-null   float64\n",
      "dtypes: float64(1), int64(5)\n",
      "memory usage: 234.5 KB\n",
      "sales_df None\n"
     ]
    }
   ],
   "source": [
    "print (\"customer_df\",customer_df.info())\n",
    "print (\"orders_df\",orders_df.info())\n",
    "print (\"product_df\",product_df.info())\n",
    "print (\"sales_df\",sales_df.info())\n"
   ]
  },
  {
   "cell_type": "markdown",
   "metadata": {},
   "source": [
    "analisa\n",
    "\n",
    "customer_df = missing values ,duplicate ,max age 700 (outliers)\n",
    "order_df = type data order date dan delivery date object, seharunya datetime"
   ]
  },
  {
   "cell_type": "code",
   "execution_count": 659,
   "metadata": {},
   "outputs": [
    {
     "name": "stdout",
     "output_type": "stream",
     "text": [
      "0\n"
     ]
    }
   ],
   "source": [
    "# membuang duplicate \n",
    "\n",
    "customer_df.drop_duplicates(inplace=True)\n",
    " \n",
    "print(customer_df.duplicated().sum())\n"
   ]
  },
  {
   "cell_type": "code",
   "execution_count": 660,
   "metadata": {},
   "outputs": [
    {
     "name": "stdout",
     "output_type": "stream",
     "text": [
      "gender\n",
      "Prefer not to say    725\n",
      "Male                 143\n",
      "Female               115\n",
      "Name: count, dtype: int64\n"
     ]
    }
   ],
   "source": [
    "# menganalisa nan pada gender untuk memutuskan untuk di fillna atau di drop\n",
    "\n",
    "# mengecek jumlah tiap gender\n",
    "\n",
    "cek_gender=customer_df[\"gender\"].value_counts()\n",
    "\n",
    "print(cek_gender)\n"
   ]
  },
  {
   "cell_type": "code",
   "execution_count": 661,
   "metadata": {},
   "outputs": [
    {
     "name": "stdout",
     "output_type": "stream",
     "text": [
      "customer_id      0\n",
      "customer_name    0\n",
      "gender           0\n",
      "age              0\n",
      "home_address     0\n",
      "zip_code         0\n",
      "city             0\n",
      "state            0\n",
      "country          0\n",
      "dtype: int64\n"
     ]
    }
   ],
   "source": [
    "# karena gender prefer not to say lebih banyak , maka saya putuskan untuk fill na dengan prefer not to say\n",
    "\n",
    "customer_df[\"gender\"].fillna(value= \"Prefer not to say\",inplace=True)\n",
    "\n",
    "print(customer_df.isna().sum())"
   ]
  },
  {
   "cell_type": "code",
   "execution_count": 662,
   "metadata": {},
   "outputs": [
    {
     "name": "stdout",
     "output_type": "stream",
     "text": [
      "     customer_id customer_name             gender  age  \\\n",
      "967          961     fulan 961  Prefer not to say  700   \n",
      "\n",
      "                   home_address  zip_code        city            state  \\\n",
      "967  29 Farrell ParadeSuite 818      6528  New Joseph  South Australia   \n",
      "\n",
      "       country  \n",
      "967  Australia  \n"
     ]
    }
   ],
   "source": [
    "# mengecek baris yang berisikan age=700\n",
    "\n",
    "print(customer_df[customer_df[\"age\"]==700])"
   ]
  },
  {
   "cell_type": "code",
   "execution_count": 663,
   "metadata": {},
   "outputs": [
    {
     "name": "stdout",
     "output_type": "stream",
     "text": [
      "500\n"
     ]
    }
   ],
   "source": [
    "# hanya terdapat 1 baris yg berisikan age=700 , kemungkinan karena kesalahan input. maka diputuskan untuk fill na dengan value 70\n",
    "\n",
    "\n",
    "customer_df[\"age\"]=customer_df[\"age\"].replace(to_replace=700,value=70)\n",
    "\n",
    "print(customer_df[\"age\"].max())"
   ]
  },
  {
   "cell_type": "code",
   "execution_count": 664,
   "metadata": {},
   "outputs": [
    {
     "name": "stdout",
     "output_type": "stream",
     "text": [
      "80\n"
     ]
    }
   ],
   "source": [
    "# ternyata ada invalid value lagi di kolom age\n",
    "\n",
    "customer_df[\"age\"]=customer_df[\"age\"].replace(to_replace=500,value=50)\n",
    "\n",
    "print(customer_df[\"age\"].max())"
   ]
  },
  {
   "cell_type": "code",
   "execution_count": 665,
   "metadata": {},
   "outputs": [
    {
     "name": "stdout",
     "output_type": "stream",
     "text": [
      "<class 'pandas.core.frame.DataFrame'>\n",
      "RangeIndex: 1000 entries, 0 to 999\n",
      "Data columns (total 5 columns):\n",
      " #   Column         Non-Null Count  Dtype         \n",
      "---  ------         --------------  -----         \n",
      " 0   order_id       1000 non-null   int64         \n",
      " 1   customer_id    1000 non-null   int64         \n",
      " 2   payment        1000 non-null   int64         \n",
      " 3   order_date     1000 non-null   datetime64[ns]\n",
      " 4   delivery_date  1000 non-null   datetime64[ns]\n",
      "dtypes: datetime64[ns](2), int64(3)\n",
      "memory usage: 39.2 KB\n",
      "None\n",
      "   order_id  customer_id  payment order_date delivery_date\n",
      "0         1           64    30811 2021-08-30    2021-09-24\n",
      "1         2          473    50490 2021-02-03    2021-02-13\n",
      "2         3          774    46763 2021-10-08    2021-11-03\n",
      "3         4          433    39782 2021-05-06    2021-05-19\n",
      "4         5          441    14719 2021-03-23    2021-03-24\n"
     ]
    }
   ],
   "source": [
    "#membersihkan data oder_df\n",
    "\n",
    "# merubah type order_date & delivery date menjadi date_time\n",
    "\n",
    "kolom_datetime=['order_date','delivery_date']\n",
    "\n",
    "for kolom in kolom_datetime:\n",
    "    orders_df[kolom]=pd.to_datetime(orders_df[kolom])\n",
    "\n",
    "print(orders_df.info())\n",
    "\n",
    "print(orders_df.head())"
   ]
  },
  {
   "cell_type": "code",
   "execution_count": 666,
   "metadata": {},
   "outputs": [
    {
     "data": {
      "text/plain": [
       "0"
      ]
     },
     "execution_count": 666,
     "metadata": {},
     "output_type": "execute_result"
    }
   ],
   "source": [
    "# membersihkan product_df\n",
    "\n",
    "product_df.drop_duplicates(inplace=True)\n",
    "\n",
    "product_df.duplicated().sum()"
   ]
  },
  {
   "cell_type": "code",
   "execution_count": 669,
   "metadata": {},
   "outputs": [
    {
     "data": {
      "text/plain": [
       "0"
      ]
     },
     "execution_count": 669,
     "metadata": {},
     "output_type": "execute_result"
    }
   ],
   "source": [
    "# membersihkan sales_df\n",
    "\n",
    "sales_df[\"total_price\"]=sales_df[\"total_price\"].fillna(sales_df['price_per_unit']*sales_df[\"quantity\"])\n",
    "\n",
    "sales_df[\"total_price\"].isna().sum()"
   ]
  }
 ],
 "metadata": {
  "kernelspec": {
   "display_name": "Python 3",
   "language": "python",
   "name": "python3"
  },
  "language_info": {
   "codemirror_mode": {
    "name": "ipython",
    "version": 3
   },
   "file_extension": ".py",
   "mimetype": "text/x-python",
   "name": "python",
   "nbconvert_exporter": "python",
   "pygments_lexer": "ipython3",
   "version": "3.10.11"
  }
 },
 "nbformat": 4,
 "nbformat_minor": 2
}
