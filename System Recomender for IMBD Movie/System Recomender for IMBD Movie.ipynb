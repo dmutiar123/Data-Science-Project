{
 "cells": [
  {
   "cell_type": "markdown",
   "metadata": {},
   "source": [
    "Project ini berisikan rekomendasi film berdasarkan formula weighted rating dari IMBD  \n",
    "\n"
   ]
  },
  {
   "cell_type": "code",
   "execution_count": 1,
   "metadata": {},
   "outputs": [],
   "source": [
    "import pandas as pd\n",
    "import numpy as np\n",
    "\n",
    "movie_df=pd.read_csv(\"E:/Boothcamp/dataset/title.basics.tsv\",sep='\\t')\n",
    "rating_df=pd.read_csv(\"E:/Boothcamp/dataset/title.ratings.tsv\",sep='\\t')\n",
    "    \n",
    "# pd.set_option('display.max_columns', None)\n",
    "\n"
   ]
  },
  {
   "cell_type": "markdown",
   "metadata": {},
   "source": [
    "langkah pengerjaan\n",
    "\n",
    "1. Melihat df.head untuk menentukan kolom apa yg akan berpengaruh dalam pembuatan simple recomender\n"
   ]
  },
  {
   "cell_type": "code",
   "execution_count": 2,
   "metadata": {},
   "outputs": [
    {
     "name": "stdout",
     "output_type": "stream",
     "text": [
      "movie_df       tconst  titleType                                      primaryTitle  \\\n",
      "0  tt0221078      short                         Circle Dance, Ute Indians   \n",
      "1  tt8862466  tvEpisode  ¡El #TeamOsos va con todo al \"Reality del amor\"!   \n",
      "2  tt7157720  tvEpisode                                     Episode #3.41   \n",
      "3  tt2974998  tvEpisode                         Episode dated 16 May 1987   \n",
      "4  tt2903620  tvEpisode                  Frances Bavier: Aunt Bee Retires   \n",
      "\n",
      "                                      originalTitle  isAdult startYear  \\\n",
      "0                         Circle Dance, Ute Indians        0      1898   \n",
      "1  ¡El #TeamOsos va con todo al \"Reality del amor\"!        0      2018   \n",
      "2                                     Episode #3.41        0      2016   \n",
      "3                         Episode dated 16 May 1987        0      1987   \n",
      "4                  Frances Bavier: Aunt Bee Retires        0      1973   \n",
      "\n",
      "  endYear runtimeMinutes             genres  \n",
      "0      \\N             \\N  Documentary,Short  \n",
      "1      \\N             \\N       Comedy,Drama  \n",
      "2      \\N             29   Comedy,Game-Show  \n",
      "3      \\N             \\N               News  \n",
      "4      \\N             \\N        Documentary  \n",
      "rating_df       tconst  averageRating  numVotes\n",
      "0  tt0000001            5.6      1608\n",
      "1  tt0000002            6.0       197\n",
      "2  tt0000003            6.5      1285\n",
      "3  tt0000004            6.1       121\n",
      "4  tt0000005            6.1      2050\n"
     ]
    }
   ],
   "source": [
    "print(\"movie_df\",movie_df.head())\n",
    "print(\"rating_df\",rating_df.head())\n"
   ]
  },
  {
   "cell_type": "code",
   "execution_count": 3,
   "metadata": {},
   "outputs": [
    {
     "name": "stdout",
     "output_type": "stream",
     "text": [
      "<class 'pandas.core.frame.DataFrame'>\n",
      "RangeIndex: 9025 entries, 0 to 9024\n",
      "Data columns (total 9 columns):\n",
      " #   Column          Non-Null Count  Dtype \n",
      "---  ------          --------------  ----- \n",
      " 0   tconst          9025 non-null   object\n",
      " 1   titleType       9025 non-null   object\n",
      " 2   primaryTitle    9011 non-null   object\n",
      " 3   originalTitle   9011 non-null   object\n",
      " 4   isAdult         9025 non-null   int64 \n",
      " 5   startYear       9025 non-null   object\n",
      " 6   endYear         9025 non-null   object\n",
      " 7   runtimeMinutes  9025 non-null   object\n",
      " 8   genres          9014 non-null   object\n",
      "dtypes: int64(1), object(8)\n",
      "memory usage: 634.7+ KB\n",
      "movie_df info None\n",
      "<class 'pandas.core.frame.DataFrame'>\n",
      "RangeIndex: 1030009 entries, 0 to 1030008\n",
      "Data columns (total 3 columns):\n",
      " #   Column         Non-Null Count    Dtype  \n",
      "---  ------         --------------    -----  \n",
      " 0   tconst         1030009 non-null  object \n",
      " 1   averageRating  1030009 non-null  float64\n",
      " 2   numVotes       1030009 non-null  int64  \n",
      "dtypes: float64(1), int64(1), object(1)\n",
      "memory usage: 23.6+ MB\n",
      "movie_df info None\n"
     ]
    }
   ],
   "source": [
    "print(\"movie_df info\",movie_df.info())\n",
    "print(\"movie_df info\",rating_df.info())\n",
    "\n"
   ]
  },
  {
   "cell_type": "markdown",
   "metadata": {},
   "source": [
    "Setelah melihat df.head , kita menentukan kolom yang berpengaruh dalam simple recomender, yaitu :\n",
    "tconst\n",
    "titleType\n",
    "primaryTitle\n",
    "originalTitle\n",
    "isAdult\n",
    "startYear\n",
    "endYear\n",
    "runtimeMinutes\n",
    "genres\n",
    "\n",
    "kolom tsb harus di bersihkan null/ Nan dan type datanya harus sesuai\n",
    "\n",
    "terlihat bahwa primaryTitle,originalTitle dan genres tedapat null\n",
    "maka kita akan mengambil data df yg tidak ada null dengan .loc"
   ]
  },
  {
   "cell_type": "code",
   "execution_count": 4,
   "metadata": {},
   "outputs": [
    {
     "name": "stdout",
     "output_type": "stream",
     "text": [
      "<class 'pandas.core.frame.DataFrame'>\n",
      "Index: 9000 entries, 0 to 8999\n",
      "Data columns (total 9 columns):\n",
      " #   Column          Non-Null Count  Dtype \n",
      "---  ------          --------------  ----- \n",
      " 0   tconst          9000 non-null   object\n",
      " 1   titleType       9000 non-null   object\n",
      " 2   primaryTitle    9000 non-null   object\n",
      " 3   originalTitle   9000 non-null   object\n",
      " 4   isAdult         9000 non-null   int64 \n",
      " 5   startYear       9000 non-null   object\n",
      " 6   endYear         9000 non-null   object\n",
      " 7   runtimeMinutes  9000 non-null   object\n",
      " 8   genres          9000 non-null   object\n",
      "dtypes: int64(1), object(8)\n",
      "memory usage: 703.1+ KB\n",
      "movie_df info None\n"
     ]
    }
   ],
   "source": [
    "movie_df = movie_df.loc[(movie_df['primaryTitle'].notnull()) & (movie_df['originalTitle'].notnull())]\n",
    "movie_df = movie_df.loc[movie_df['genres'].notnull()]\n",
    "\n",
    "#menampilkan jumlah data setelah data dengan nilai NULL dibuang\n",
    "\n",
    "print(\"movie_df info\",movie_df.info())"
   ]
  },
  {
   "cell_type": "markdown",
   "metadata": {},
   "source": [
    "\n",
    "Merubah type kolom startyear & runtimeMinutes menjadi float\n",
    "\n",
    "tapi tidak bisa karena ada \\\\N sehingga tidak bisa dirubah menjadi float. \n",
    "\n",
    "pertama2 kita harus merubah menjadi np.nan\n",
    "\n",
    "lalu membuang nan di kolom startYear dan runTimesMinutas.\n",
    "\n",
    "\n"
   ]
  },
  {
   "cell_type": "code",
   "execution_count": 5,
   "metadata": {},
   "outputs": [
    {
     "name": "stdout",
     "output_type": "stream",
     "text": [
      "<class 'pandas.core.frame.DataFrame'>\n",
      "Index: 2558 entries, 2 to 8990\n",
      "Data columns (total 9 columns):\n",
      " #   Column          Non-Null Count  Dtype  \n",
      "---  ------          --------------  -----  \n",
      " 0   tconst          2558 non-null   object \n",
      " 1   titleType       2558 non-null   object \n",
      " 2   primaryTitle    2558 non-null   object \n",
      " 3   originalTitle   2558 non-null   object \n",
      " 4   isAdult         2558 non-null   int64  \n",
      " 5   startYear       2558 non-null   float64\n",
      " 6   endYear         39 non-null     float64\n",
      " 7   runtimeMinutes  2558 non-null   float64\n",
      " 8   genres          2558 non-null   object \n",
      "dtypes: float64(3), int64(1), object(5)\n",
      "memory usage: 199.8+ KB\n",
      "movie_df info None\n"
     ]
    }
   ],
   "source": [
    "movie_df['startYear']=movie_df['startYear'].replace('\\\\N',np.nan)\n",
    "movie_df['endYear']=movie_df['endYear'].replace('\\\\N',np.nan)\n",
    "movie_df['runtimeMinutes']=movie_df['runtimeMinutes'].replace('\\\\N',np.nan)\n",
    "\n",
    "movie_df['startYear']=movie_df['startYear'].astype('float')\n",
    "movie_df['endYear']=movie_df['endYear'].astype('float')\n",
    "movie_df['runtimeMinutes']=movie_df['runtimeMinutes'].astype('float')\n",
    "\n",
    "movie_df=movie_df.dropna(subset=['startYear','runtimeMinutes'])\n",
    "print(\"movie_df info\",movie_df.info())"
   ]
  },
  {
   "cell_type": "markdown",
   "metadata": {},
   "source": [
    "karena kita akan membuat simple recomender dengan kolom genre maka kita akan merubah kolom genre menjadi list"
   ]
  },
  {
   "cell_type": "code",
   "execution_count": 6,
   "metadata": {},
   "outputs": [
    {
     "name": "stdout",
     "output_type": "stream",
     "text": [
      "2           Comedy,Game-Show\n",
      "5    Animation,Comedy,Family\n",
      "6     Animation,Comedy,Drama\n",
      "7                     Comedy\n",
      "8                      Adult\n",
      "Name: genres, dtype: object\n",
      "2            [Comedy, Game-Show]\n",
      "5    [Animation, Comedy, Family]\n",
      "6     [Animation, Comedy, Drama]\n",
      "7                             []\n",
      "8                             []\n",
      "Name: genres, dtype: object\n",
      "<class 'pandas.core.frame.DataFrame'>\n",
      "Index: 2558 entries, 2 to 8990\n",
      "Data columns (total 9 columns):\n",
      " #   Column          Non-Null Count  Dtype  \n",
      "---  ------          --------------  -----  \n",
      " 0   tconst          2558 non-null   object \n",
      " 1   titleType       2558 non-null   object \n",
      " 2   primaryTitle    2558 non-null   object \n",
      " 3   originalTitle   2558 non-null   object \n",
      " 4   isAdult         2558 non-null   int64  \n",
      " 5   startYear       2558 non-null   float64\n",
      " 6   endYear         39 non-null     float64\n",
      " 7   runtimeMinutes  2558 non-null   float64\n",
      " 8   genres          2558 non-null   object \n",
      "dtypes: float64(3), int64(1), object(5)\n",
      "memory usage: 199.8+ KB\n",
      "None\n"
     ]
    }
   ],
   "source": [
    "print('genre as is ',movie_df['genres'].head())\n",
    "\n",
    "def split_genre(x):\n",
    "    if ',' in x:\n",
    "        return x.split(',')\n",
    "    else :\n",
    "        return []\n",
    "\n",
    "movie_df['genres'] = movie_df['genres'].apply(lambda x :split_genre(x)) \n",
    "\n",
    "\n",
    "\n",
    "print(movie_df['genres'].head())\n",
    "\n",
    "print('genre to be',movie_df.info())"
   ]
  },
  {
   "cell_type": "markdown",
   "metadata": {},
   "source": [
    "sementara movie_df sudah cukup dibersihkan\n",
    "\n",
    "saatnya mengecek data rating_df"
   ]
  },
  {
   "cell_type": "code",
   "execution_count": 7,
   "metadata": {},
   "outputs": [
    {
     "name": "stdout",
     "output_type": "stream",
     "text": [
      "rating_df       tconst  averageRating  numVotes\n",
      "0  tt0000001            5.6      1608\n",
      "1  tt0000002            6.0       197\n",
      "2  tt0000003            6.5      1285\n",
      "3  tt0000004            6.1       121\n",
      "4  tt0000005            6.1      2050\n",
      "<class 'pandas.core.frame.DataFrame'>\n",
      "RangeIndex: 1030009 entries, 0 to 1030008\n",
      "Data columns (total 3 columns):\n",
      " #   Column         Non-Null Count    Dtype  \n",
      "---  ------         --------------    -----  \n",
      " 0   tconst         1030009 non-null  object \n",
      " 1   averageRating  1030009 non-null  float64\n",
      " 2   numVotes       1030009 non-null  int64  \n",
      "dtypes: float64(1), int64(1), object(1)\n",
      "memory usage: 23.6+ MB\n",
      "None\n",
      "0\n",
      "0\n"
     ]
    }
   ],
   "source": [
    "print(\"rating_df\",rating_df.head())\n",
    "print(rating_df.info())\n",
    "\n",
    "print(rating_df['averageRating'].isna().sum())\n",
    "\n",
    "print(rating_df['numVotes'].isna().sum())"
   ]
  },
  {
   "cell_type": "markdown",
   "metadata": {},
   "source": [
    "rating_df sudah siap digunakan ( type data sudah sesuai)\n",
    "\n",
    "selanjut nya menggabungkan movie_df dengan rating_df menjadi movie_rating_df"
   ]
  },
  {
   "cell_type": "code",
   "execution_count": 8,
   "metadata": {},
   "outputs": [
    {
     "name": "stdout",
     "output_type": "stream",
     "text": [
      "<class 'pandas.core.frame.DataFrame'>\n",
      "RangeIndex: 1004 entries, 0 to 1003\n",
      "Data columns (total 11 columns):\n",
      " #   Column          Non-Null Count  Dtype  \n",
      "---  ------          --------------  -----  \n",
      " 0   tconst          1004 non-null   object \n",
      " 1   titleType       1004 non-null   object \n",
      " 2   primaryTitle    1004 non-null   object \n",
      " 3   originalTitle   1004 non-null   object \n",
      " 4   isAdult         1004 non-null   int64  \n",
      " 5   startYear       1004 non-null   float64\n",
      " 6   endYear         17 non-null     float64\n",
      " 7   runtimeMinutes  1004 non-null   float64\n",
      " 8   genres          1004 non-null   object \n",
      " 9   averageRating   1004 non-null   float64\n",
      " 10  numVotes        1004 non-null   int64  \n",
      "dtypes: float64(4), int64(2), object(5)\n",
      "memory usage: 86.4+ KB\n",
      "None\n"
     ]
    }
   ],
   "source": [
    "movie_rating_df=pd.merge(movie_df,rating_df,how='inner',on='tconst')\n",
    "\n",
    "# print(movie_rating_df.head())\n",
    "\n",
    "print(movie_rating_df.info())"
   ]
  },
  {
   "cell_type": "markdown",
   "metadata": {},
   "source": [
    "setelah dicek dengan df.info selain kolom endYear sudah tidak ditemukan nan. kolom endyear ini tidak berpengaruh pada pembuatan system recomder.\n",
    "maka dapat diabaikan\n",
    "\n",
    "\n",
    "selanjutnya kita membuat weight rating formula dari IMDB\n",
    "note : \n",
    "v= jumlah votes film tsb\n",
    "m = adalah jumlah minimum vote yang dibutuhkan agar masuk dalam chart ( quantile 0.8 dari numVotes)\n",
    "R= rata2 rating film tsb\n",
    "C= rata2 jumlah votes dari semesta film"
   ]
  },
  {
   "cell_type": "code",
   "execution_count": 9,
   "metadata": {},
   "outputs": [
    {
     "name": "stdout",
     "output_type": "stream",
     "text": [
      "      tconst  titleType          primaryTitle         originalTitle  isAdult  \\\n",
      "0  tt0043745      short             Lion Down             Lion Down        0   \n",
      "1  tt0167491      video     Wicked Covergirls     Wicked Covergirls        1   \n",
      "2  tt6574096  tvEpisode  Shadow Play - Part 2  Shadow Play - Part 2        0   \n",
      "3  tt2262289      movie               The Pin               The Pin        0   \n",
      "4  tt0874027  tvEpisode         Episode #32.9         Episode #32.9        0   \n",
      "\n",
      "   startYear  endYear  runtimeMinutes                          genres  \\\n",
      "0     1951.0      NaN             7.0     [Animation, Comedy, Family]   \n",
      "1     1998.0      NaN            85.0                              []   \n",
      "2     2017.0      NaN            22.0  [Adventure, Animation, Comedy]   \n",
      "3     2013.0      NaN            85.0                              []   \n",
      "4     2006.0      NaN            29.0       [Comedy, Game-Show, News]   \n",
      "\n",
      "   averageRating  numVotes       score  \n",
      "0            7.1       459  250.223731  \n",
      "1            5.7         7  715.825961  \n",
      "2            8.5       240  364.467008  \n",
      "3            7.7        27  660.558308  \n",
      "4            8.0         8  712.907286  \n"
     ]
    }
   ],
   "source": [
    "def weight_rating(df):\n",
    "    v = df['numVotes']\n",
    "    m = df['numVotes'].quantile (0.8)\n",
    "    R = df['averageRating']\n",
    "    C = df['numVotes'].mean()\n",
    "    df['score']=(v/(v+m)*R)+(m/(v+m)*C)\n",
    "    return df['score']\n",
    "\n",
    "weight_rating(movie_rating_df)\n",
    "\n",
    "print(movie_rating_df.head())\n",
    "   "
   ]
  },
  {
   "cell_type": "markdown",
   "metadata": {},
   "source": [
    "Setelah berhasil memunculkan score , maka kita akan memfilter 100 film yang numVotes diatas dari nilai m "
   ]
  },
  {
   "cell_type": "code",
   "execution_count": 10,
   "metadata": {},
   "outputs": [
    {
     "name": "stdout",
     "output_type": "stream",
     "text": [
      "        tconst  titleType             primaryTitle            originalTitle  \\\n",
      "657  tt3820128      short                 The Herd                 The Herd   \n",
      "358  tt0882806      movie               Sugar Boxx               Sugar Boxx   \n",
      "616  tt0026373      movie  Folies Bergère de Paris  Folies Bergère de Paris   \n",
      "933  tt0095194      movie          Galactic Gigolo          Galactic Gigolo   \n",
      "36   tt0446043      movie           Opie Gets Laid                Sunnyvale   \n",
      "400  tt0241687      movie            Loving Memory            Loving Memory   \n",
      "605  tt0945153   tvSeries               Maui Fever               Maui Fever   \n",
      "961  tt1010399      movie          The Big Sellout     Der große Ausverkauf   \n",
      "2    tt6574096  tvEpisode     Shadow Play - Part 2     Shadow Play - Part 2   \n",
      "331  tt0017382      movie             The Show-Off             The Show-Off   \n",
      "\n",
      "     isAdult  startYear  endYear  runtimeMinutes  \\\n",
      "657        0     2014.0      NaN            21.0   \n",
      "358        0     2009.0      NaN            86.0   \n",
      "616        0     1935.0      NaN            82.0   \n",
      "933        0     1987.0      NaN            80.0   \n",
      "36         0     2005.0      NaN            75.0   \n",
      "400        0     1971.0      NaN            57.0   \n",
      "605        0     2007.0      NaN            30.0   \n",
      "961        0     2007.0      NaN            94.0   \n",
      "2          0     2017.0      NaN            22.0   \n",
      "331        0     1926.0      NaN            82.0   \n",
      "\n",
      "                             genres  averageRating  numVotes       score  \n",
      "657       [Horror, Short, Thriller]            6.5       230  371.220102  \n",
      "358                  [Crime, Drama]            3.5       229  370.516434  \n",
      "616               [Comedy, Musical]            6.6       231  370.477450  \n",
      "933                [Comedy, Sci-Fi]            3.4       229  370.466434  \n",
      "36                [Comedy, Romance]            4.7       230  370.318141  \n",
      "400                              []            6.1       233  368.650058  \n",
      "605                              []            2.7       233  366.935340  \n",
      "961                              []            7.6       238  365.532820  \n",
      "2    [Adventure, Animation, Comedy]            8.5       240  364.467008  \n",
      "331                 [Comedy, Drama]            6.8       242  362.082010  \n"
     ]
    }
   ],
   "source": [
    "def hundred_film_recomender (df,top=10):\n",
    "    m = df['numVotes'].quantile (0.8)\n",
    "    df=df.loc[df['numVotes']>=m]\n",
    "    df=df.sort_values(by='score',ascending=False)\n",
    "    df=df[:top]\n",
    "    return df\n",
    "\n",
    "df_top=(hundred_film_recomender(movie_rating_df))\n",
    "\n",
    "print(df_top)\n"
   ]
  },
  {
   "cell_type": "markdown",
   "metadata": {},
   "source": [
    "Membuat user_prefer_recomender dengan pilihan pada isAdult,startYear,genre"
   ]
  },
  {
   "cell_type": "code",
   "execution_count": 11,
   "metadata": {},
   "outputs": [
    {
     "name": "stdout",
     "output_type": "stream",
     "text": [
      "        tconst  titleType             primaryTitle            originalTitle  \\\n",
      "616  tt0026373      movie  Folies Bergère de Paris  Folies Bergère de Paris   \n",
      "933  tt0095194      movie          Galactic Gigolo          Galactic Gigolo   \n",
      "36   tt0446043      movie           Opie Gets Laid                Sunnyvale   \n",
      "2    tt6574096  tvEpisode     Shadow Play - Part 2     Shadow Play - Part 2   \n",
      "331  tt0017382      movie             The Show-Off             The Show-Off   \n",
      "\n",
      "     isAdult  startYear  endYear  runtimeMinutes  \\\n",
      "616        0     1935.0      NaN            82.0   \n",
      "933        0     1987.0      NaN            80.0   \n",
      "36         0     2005.0      NaN            75.0   \n",
      "2          0     2017.0      NaN            22.0   \n",
      "331        0     1926.0      NaN            82.0   \n",
      "\n",
      "                             genres  averageRating  numVotes       score  \n",
      "616               [Comedy, Musical]            6.6       231  370.477450  \n",
      "933                [Comedy, Sci-Fi]            3.4       229  370.466434  \n",
      "36                [Comedy, Romance]            4.7       230  370.318141  \n",
      "2    [Adventure, Animation, Comedy]            8.5       240  364.467008  \n",
      "331                 [Comedy, Drama]            6.8       242  362.082010  \n"
     ]
    }
   ],
   "source": [
    "# print(movie_rating_df)\n",
    "\n",
    "def user_prefer_recomender(df,ask_isAdult,ask_genres):\n",
    "   if ask_isAdult.lower()=='yes':\n",
    "      df=df.loc[df['isAdult']==1]\n",
    "   if ask_isAdult.lower()=='no':\n",
    "      df=df.loc[df['isAdult']==0]\n",
    "   if ask_genres.lower()=='all':\n",
    "      df=df\n",
    "   else:\n",
    "      def filter_genres (x):\n",
    "         if ask_genres.lower() in str(x).lower():\n",
    "            return True\n",
    "         else:\n",
    "            return False\n",
    "      df = df.loc[df['genres'].apply (lambda x : filter_genres(x))]\n",
    "   \n",
    "   return df\n",
    "\n",
    "print(user_prefer_recomender(df_top,ask_isAdult='no',ask_genres='Comedy'))"
   ]
  },
  {
   "cell_type": "markdown",
   "metadata": {},
   "source": []
  },
  {
   "cell_type": "markdown",
   "metadata": {},
   "source": []
  }
 ],
 "metadata": {
  "kernelspec": {
   "display_name": "Python 3",
   "language": "python",
   "name": "python3"
  },
  "language_info": {
   "codemirror_mode": {
    "name": "ipython",
    "version": 3
   },
   "file_extension": ".py",
   "mimetype": "text/x-python",
   "name": "python",
   "nbconvert_exporter": "python",
   "pygments_lexer": "ipython3",
   "version": "3.10.11"
  },
  "orig_nbformat": 4
 },
 "nbformat": 4,
 "nbformat_minor": 2
}
